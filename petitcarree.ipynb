{
  "nbformat": 4,
  "nbformat_minor": 0,
  "metadata": {
    "colab": {
      "name": "petitcarree.ipynb",
      "provenance": [],
      "authorship_tag": "ABX9TyMHgAo2PHmMoNRd4KMOnIhA",
      "include_colab_link": true
    },
    "kernelspec": {
      "name": "python3",
      "display_name": "Python 3"
    },
    "language_info": {
      "name": "python"
    }
  },
  "cells": [
    {
      "cell_type": "markdown",
      "metadata": {
        "id": "view-in-github",
        "colab_type": "text"
      },
      "source": [
        "<a href=\"https://colab.research.google.com/github/disco07/petit-carree/blob/main/petitcarree.ipynb\" target=\"_parent\"><img src=\"https://colab.research.google.com/assets/colab-badge.svg\" alt=\"Open In Colab\"/></a>"
      ]
    },
    {
      "cell_type": "code",
      "execution_count": 85,
      "metadata": {
        "colab": {
          "base_uri": "https://localhost:8080/"
        },
        "id": "GXpPKAhUko25",
        "outputId": "58c47837-13f5-41f8-f557-321c08ca8aa7"
      },
      "outputs": [
        {
          "output_type": "stream",
          "name": "stdout",
          "text": [
            "[[1, 1, 1, 1, 1, 1, 1, 1, 1, 1, 1, 1],\n",
            " [1, 0, 1, 1, 0, 1, 1, 1, 1, 1, 1, 1],\n",
            " [1, 1, 1, 1, 1, 1, 1, 1, 0, 1, 1, 1],\n",
            " [1, 0, 1, 1, 1, 1, 1, 1, 1, 1, 1, 1],\n",
            " [1, 1, 1, 1, 1, 1, 1, 1, 1, 1, 0, 1],\n",
            " [1, 1, 1, 0, 1, 1, 1, 0, 1, 1, 1, 1],\n",
            " [1, 1, 0, 1, 1, 1, 1, 1, 1, 1, 0, 1]]\n",
            "\n",
            "[[1, 1, 1, 1, 1, 1, 1, 1, 1, 1, 1, 1],\n",
            " [1, 0, 1, 2, 0, 1, 2, 2, 2, 2, 2, 2],\n",
            " [1, 1, 1, 2, 1, 1, 2, 3, 0, 1, 2, 3],\n",
            " [1, 0, 1, 2, 2, 2, 2, 3, 1, 1, 2, 3],\n",
            " [1, 1, 1, 2, 3, 3, 3, 3, 2, 2, 0, 1],\n",
            " [1, 2, 2, 0, 1, 2, 3, 0, 1, 2, 1, 1],\n",
            " [1, 2, 0, 1, 1, 2, 3, 1, 1, 2, 0, 1]]\n",
            "afficher les max\n",
            "2 7 3\n",
            "Maximum size sub-matrix is: \n",
            "[[1, 1, 1, 1, 1, 'X', 'X', 'X', 1, 1, 1, 1],\n",
            " [1, 0, 1, 1, 0, 'X', 'X', 'X', 1, 1, 1, 1],\n",
            " [1, 1, 1, 1, 1, 'X', 'X', 'X', 0, 1, 1, 1],\n",
            " [1, 0, 1, 1, 1, 1, 1, 1, 1, 1, 1, 1],\n",
            " [1, 1, 1, 1, 1, 1, 1, 1, 1, 1, 0, 1],\n",
            " [1, 1, 1, 0, 1, 1, 1, 0, 1, 1, 1, 1],\n",
            " [1, 1, 0, 1, 1, 1, 1, 1, 1, 1, 0, 1]]\n"
          ]
        }
      ],
      "source": [
        "import pprint\n",
        "\n",
        "tab = []\n",
        "with open('fichier.txt') as f:\n",
        "    for key, line in enumerate(f):\n",
        "      if key != 0:\n",
        "        inner_list = [elt.rstrip() for elt in line]\n",
        "        inner_list.remove('\\\\')\n",
        "        inner_list.remove('n')\n",
        "        if '' in inner_list:\n",
        "          inner_list.remove('')\n",
        "        tab.append(inner_list)\n",
        "\n",
        "def printMaxSubSquare(M):\n",
        "    R = len(M)\n",
        "    C = len(M[0])\n",
        " \n",
        "    S = []\n",
        "    for i in range(R):\n",
        "      temp = []\n",
        "      for j in range(C):\n",
        "        if i==0 or j==0:\n",
        "          temp += M[i][j],\n",
        "        else:\n",
        "          temp += 0,\n",
        "      S += temp,\n",
        "    \n",
        "    for i in range(1, R):\n",
        "      for j in range(1, C):\n",
        "        if (M[i][j] == 1):\n",
        "          S[i][j] = min(S[i][j-1], S[i-1][j],\n",
        "                            S[i-1][j-1]) + 1\n",
        "        else:\n",
        "          S[i][j] = 0\n",
        "    print('')\n",
        "    pprint.pprint(S)\n",
        "    max_of_s = S[0][0]\n",
        "    max_i = 0\n",
        "    max_j = 0\n",
        "    for i in range(R):\n",
        "      for j in range(C):\n",
        "        if (max_of_s < S[i][j]):\n",
        "          max_of_s = S[i][j]\n",
        "          max_i = i\n",
        "          max_j = j\n",
        "    print('afficher les max')\n",
        "    print(max_i, max_j, max_of_s)\n",
        "    print(\"Maximum size sub-matrix is: \")\n",
        "    for i in range(max_i, max_i - max_of_s, -1):\n",
        "      for j in range(max_j, max_j - max_of_s, -1):\n",
        "        M[i][j] = \"X\"\n",
        "    pprint.pprint(M)\n",
        "\n",
        "matrice = [[1 if cell == '.' else 0 for cell in line] for line in tab]\n",
        "pprint.pprint(matrice)\n",
        "printMaxSubSquare(matrice)"
      ]
    }
  ]
}